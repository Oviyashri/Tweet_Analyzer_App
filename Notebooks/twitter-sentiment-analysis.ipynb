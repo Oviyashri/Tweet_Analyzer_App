{
 "cells": [
  {
   "cell_type": "markdown",
   "metadata": {},
   "source": [
    "# **Twitter Sentiment Analysis**"
   ]
  },
  {
   "cell_type": "markdown",
   "metadata": {},
   "source": [
    "Sentiment Analysis or Opinion Mining is a technique used to analyse the emotion in a text. We can extract the attitude or the opinion of a piece of text and get insights on it. In the context of machine learning, we can think of Sentiment Analysis as a Classification problem where the text can either have a positive sentiment, a negative sentiment or a neutral one."
   ]
  },
  {
   "cell_type": "markdown",
   "metadata": {},
   "source": [
    "**Importing required libraries**"
   ]
  },
  {
   "cell_type": "code",
   "execution_count": null,
   "metadata": {},
   "outputs": [],
   "source": [
    "pip install tweepy\n",
    "pip install textblob\n",
    "pip  install wordcloud"
   ]
  },
  {
   "cell_type": "code",
   "execution_count": null,
   "metadata": {
    "execution": {
     "iopub.execute_input": "2022-04-26T15:04:03.328777Z",
     "iopub.status.busy": "2022-04-26T15:04:03.328394Z",
     "iopub.status.idle": "2022-04-26T15:04:06.776330Z",
     "shell.execute_reply": "2022-04-26T15:04:06.775111Z",
     "shell.execute_reply.started": "2022-04-26T15:04:03.328655Z"
    }
   },
   "outputs": [],
   "source": [
    "import tweepy\n",
    "from tweepy import OAuthHandler\n",
    "from textblob import TextBlob\n",
    "from wordcloud import Word\n",
    "import re\n",
    "import numpy as np\n",
    "import pandas as pd\n",
    "import matplotlib.pyplot as plt\n",
    "import seaborn as sns"
   ]
  },
  {
   "cell_type": "markdown",
   "metadata": {},
   "source": [
    "**Twitter API credentials**"
   ]
  },
  {
   "cell_type": "code",
   "execution_count": null,
   "metadata": {
    "execution": {
     "iopub.execute_input": "2022-04-26T15:04:15.350050Z",
     "iopub.status.busy": "2022-04-26T15:04:15.349748Z",
     "iopub.status.idle": "2022-04-26T15:04:15.355337Z",
     "shell.execute_reply": "2022-04-26T15:04:15.354199Z",
     "shell.execute_reply.started": "2022-04-26T15:04:15.350017Z"
    }
   },
   "outputs": [],
   "source": [
    "# consumer keys\n",
    "APIkey \n",
    "APIKeySecret       # Confidential\n",
    "accesstoken\n",
    "accesstokensecret"
   ]
  },
  {
   "cell_type": "markdown",
   "metadata": {},
   "source": [
    "**Authentication**"
   ]
  },
  {
   "cell_type": "code",
   "execution_count": null,
   "metadata": {
    "execution": {
     "iopub.execute_input": "2022-04-26T15:04:18.381116Z",
     "iopub.status.busy": "2022-04-26T15:04:18.380800Z",
     "iopub.status.idle": "2022-04-26T15:04:18.386593Z",
     "shell.execute_reply": "2022-04-26T15:04:18.385469Z",
     "shell.execute_reply.started": "2022-04-26T15:04:18.381079Z"
    }
   },
   "outputs": [],
   "source": [
    "authenticate = tweepy.OAuthHandler(APIkey, APIKeySecret) # Create OAuthHandler object\n",
    "authenticate.set_access_token(accesstoken, accesstokensecret) # Set access token and access token secret\n",
    "api = tweepy.API(authenticate)  # Creating tweepy API object to fetch tweet"
   ]
  },
  {
   "cell_type": "code",
   "execution_count": null,
   "metadata": {
    "execution": {
     "iopub.execute_input": "2022-04-26T15:08:41.662506Z",
     "iopub.status.busy": "2022-04-26T15:08:41.661831Z",
     "iopub.status.idle": "2022-04-26T15:08:42.272343Z",
     "shell.execute_reply": "2022-04-26T15:08:42.271012Z",
     "shell.execute_reply.started": "2022-04-26T15:08:41.662450Z"
    }
   },
   "outputs": [],
   "source": [
    "import tweepy\n",
    "BearerToken # confidental\n",
    "\n",
    "# create your client \n",
    "client = tweepy.Client(bearer_token=BearerToken)\n",
    "\n",
    "query = \"Air India\"\n",
    "response = client.search_recent_tweets(query=query,max_results = 100, tweet_fields=['created_at','lang'])"
   ]
  },
  {
   "cell_type": "code",
   "execution_count": null,
   "metadata": {
    "execution": {
     "iopub.execute_input": "2022-04-26T15:08:43.992093Z",
     "iopub.status.busy": "2022-04-26T15:08:43.991799Z",
     "iopub.status.idle": "2022-04-26T15:08:43.999222Z",
     "shell.execute_reply": "2022-04-26T15:08:43.998346Z",
     "shell.execute_reply.started": "2022-04-26T15:08:43.992065Z"
    }
   },
   "outputs": [],
   "source": [
    "response"
   ]
  },
  {
   "cell_type": "code",
   "execution_count": null,
   "metadata": {
    "execution": {
     "iopub.execute_input": "2022-04-26T15:09:03.043371Z",
     "iopub.status.busy": "2022-04-26T15:09:03.042922Z",
     "iopub.status.idle": "2022-04-26T15:09:03.050670Z",
     "shell.execute_reply": "2022-04-26T15:09:03.049670Z",
     "shell.execute_reply.started": "2022-04-26T15:09:03.043339Z"
    }
   },
   "outputs": [],
   "source": [
    "i=1\n",
    "for tweet in response.data[:10]:\n",
    "#    print(tweet.id)\n",
    "#    print(tweet.created_at)\n",
    "#    print(tweet.lang)\n",
    "     print(str(i)+ ')' +tweet.text+ \"\\n\") \n",
    "     i=i+1"
   ]
  },
  {
   "cell_type": "markdown",
   "metadata": {},
   "source": [
    "**Create a dataframe**"
   ]
  },
  {
   "cell_type": "code",
   "execution_count": null,
   "metadata": {
    "execution": {
     "iopub.execute_input": "2022-04-26T15:17:12.573049Z",
     "iopub.status.busy": "2022-04-26T15:17:12.572497Z",
     "iopub.status.idle": "2022-04-26T15:17:12.603300Z",
     "shell.execute_reply": "2022-04-26T15:17:12.602154Z",
     "shell.execute_reply.started": "2022-04-26T15:17:12.572843Z"
    }
   },
   "outputs": [],
   "source": [
    "# Create a dataframe with a column names Tweets\n",
    "df= pd.DataFrame([tweet.text for tweet in response.data],columns=[\"Tweets\"])\n",
    "df"
   ]
  },
  {
   "cell_type": "markdown",
   "metadata": {},
   "source": [
    "**Data Cleaning**"
   ]
  },
  {
   "cell_type": "code",
   "execution_count": null,
   "metadata": {
    "execution": {
     "iopub.execute_input": "2022-04-26T15:21:49.951802Z",
     "iopub.status.busy": "2022-04-26T15:21:49.951387Z",
     "iopub.status.idle": "2022-04-26T15:21:49.957680Z",
     "shell.execute_reply": "2022-04-26T15:21:49.956538Z",
     "shell.execute_reply.started": "2022-04-26T15:21:49.951758Z"
    }
   },
   "outputs": [],
   "source": [
    "# Create a function to clean the tweets\n",
    "def cleantweet(text):\n",
    "  text = re.sub('@[A-Za-z0–9]+', '', text) #Removing @mentions, A-Z, a-z, 0-9\n",
    "  text = re.sub('#', '', text) # Removing '#' hash tag\n",
    "  text = re.sub('RT[\\s]+', '', text) # Removing retweet\n",
    "  text = re.sub('https?:\\/\\/\\S+', '', text) # Removing hyperlink\n",
    "  return text"
   ]
  },
  {
   "cell_type": "code",
   "execution_count": null,
   "metadata": {
    "execution": {
     "iopub.execute_input": "2022-04-26T15:22:23.583841Z",
     "iopub.status.busy": "2022-04-26T15:22:23.583513Z",
     "iopub.status.idle": "2022-04-26T15:22:23.594508Z",
     "shell.execute_reply": "2022-04-26T15:22:23.593791Z",
     "shell.execute_reply.started": "2022-04-26T15:22:23.583809Z"
    }
   },
   "outputs": [],
   "source": [
    "df['Tweets']= df['Tweets'].apply(cleantweet)\n",
    "df.head(10)"
   ]
  },
  {
   "cell_type": "code",
   "execution_count": null,
   "metadata": {
    "execution": {
     "iopub.execute_input": "2022-04-26T15:24:19.273572Z",
     "iopub.status.busy": "2022-04-26T15:24:19.273103Z",
     "iopub.status.idle": "2022-04-26T15:24:19.405535Z",
     "shell.execute_reply": "2022-04-26T15:24:19.404921Z",
     "shell.execute_reply.started": "2022-04-26T15:24:19.273535Z"
    }
   },
   "outputs": [],
   "source": [
    "def getSubjectivity(text):\n",
    "   return TextBlob(text).sentiment.subjectivity\n",
    "\n",
    "def getPolarity(text):\n",
    "   return  TextBlob(text).sentiment.polarity\n",
    "\n",
    "df['Subjectivity'] = df['Tweets'].apply(getSubjectivity)\n",
    "df['Polarity'] = df['Tweets'].apply(getPolarity)\n",
    "df"
   ]
  },
  {
   "cell_type": "code",
   "execution_count": null,
   "metadata": {
    "execution": {
     "iopub.execute_input": "2022-04-26T15:27:08.701886Z",
     "iopub.status.busy": "2022-04-26T15:27:08.701515Z",
     "iopub.status.idle": "2022-04-26T15:27:09.369502Z",
     "shell.execute_reply": "2022-04-26T15:27:09.368801Z",
     "shell.execute_reply.started": "2022-04-26T15:27:08.701852Z"
    }
   },
   "outputs": [],
   "source": [
    "# word cloud visualization\n",
    "allWords = ' '.join([i for i in df['Tweets']])\n",
    "wordCloud = WordCloud(width=500, height=300, random_state=21, max_font_size=110).generate(allWords)\n",
    "plt.imshow(wordCloud)\n",
    "plt.show()"
   ]
  },
  {
   "cell_type": "code",
   "execution_count": null,
   "metadata": {
    "execution": {
     "iopub.execute_input": "2022-04-26T15:27:46.152243Z",
     "iopub.status.busy": "2022-04-26T15:27:46.151928Z",
     "iopub.status.idle": "2022-04-26T15:27:46.172785Z",
     "shell.execute_reply": "2022-04-26T15:27:46.171922Z",
     "shell.execute_reply.started": "2022-04-26T15:27:46.152210Z"
    }
   },
   "outputs": [],
   "source": [
    "def getAnalysis(score):\n",
    "  if score < 0:\n",
    "    return 'Negative'\n",
    "  elif score == 0:\n",
    "    return 'Neutral'\n",
    "  else:\n",
    "    return 'Positive'              #  negative (-1), neutral (0) and positive (+1) \n",
    "    \n",
    "df['Analysis'] = df['Polarity'].apply(getAnalysis)\n",
    "df"
   ]
  },
  {
   "cell_type": "code",
   "execution_count": null,
   "metadata": {
    "execution": {
     "iopub.execute_input": "2022-04-26T15:28:24.192642Z",
     "iopub.status.busy": "2022-04-26T15:28:24.192360Z",
     "iopub.status.idle": "2022-04-26T15:28:24.199462Z",
     "shell.execute_reply": "2022-04-26T15:28:24.198792Z",
     "shell.execute_reply.started": "2022-04-26T15:28:24.192613Z"
    }
   },
   "outputs": [],
   "source": [
    "df['Analysis'].value_counts()"
   ]
  },
  {
   "cell_type": "code",
   "execution_count": null,
   "metadata": {
    "execution": {
     "iopub.execute_input": "2022-04-26T15:28:15.412784Z",
     "iopub.status.busy": "2022-04-26T15:28:15.412075Z",
     "iopub.status.idle": "2022-04-26T15:28:15.605587Z",
     "shell.execute_reply": "2022-04-26T15:28:15.604780Z",
     "shell.execute_reply.started": "2022-04-26T15:28:15.412738Z"
    }
   },
   "outputs": [],
   "source": [
    "# Plotting and visualizing the counts\n",
    "plt.title('Sentiment Analysis')\n",
    "plt.xlabel('Sentiment')\n",
    "plt.ylabel('Counts')\n",
    "df['Analysis'].value_counts().plot(kind = 'bar')\n",
    "plt.show()"
   ]
  },
  {
   "cell_type": "code",
   "execution_count": null,
   "metadata": {
    "execution": {
     "iopub.execute_input": "2022-04-26T15:30:31.027075Z",
     "iopub.status.busy": "2022-04-26T15:30:31.026764Z",
     "iopub.status.idle": "2022-04-26T15:30:32.393926Z",
     "shell.execute_reply": "2022-04-26T15:30:32.392802Z",
     "shell.execute_reply.started": "2022-04-26T15:30:31.027046Z"
    }
   },
   "outputs": [],
   "source": [
    "# plotting scatter plot\n",
    "plt.figure(figsize=(8,6))\n",
    "for i in range(0,df.shape[0]):\n",
    " plt.scatter(df['Polarity'][i],df['Subjectivity'][i],color='Blue')\n",
    " \n",
    "plt.title(\"Sentiment Analysis\")\n",
    "plt.xlim(-1,1)\n",
    "plt.xlabel('Polarity')\n",
    "plt.ylabel('Subjectivity')\n",
    "plt.show()"
   ]
  },
  {
   "cell_type": "code",
   "execution_count": null,
   "metadata": {
    "execution": {
     "iopub.execute_input": "2022-04-26T15:44:27.696329Z",
     "iopub.status.busy": "2022-04-26T15:44:27.696009Z",
     "iopub.status.idle": "2022-04-26T15:44:27.707357Z",
     "shell.execute_reply": "2022-04-26T15:44:27.706582Z",
     "shell.execute_reply.started": "2022-04-26T15:44:27.696298Z"
    }
   },
   "outputs": [],
   "source": [
    "df.to_csv('./data.csv',index=False)"
   ]
  }
 ],
 "metadata": {
  "kernelspec": {
   "display_name": "Python 3 (ipykernel)",
   "language": "python",
   "name": "python3"
  },
  "language_info": {
   "codemirror_mode": {
    "name": "ipython",
    "version": 3
   },
   "file_extension": ".py",
   "mimetype": "text/x-python",
   "name": "python",
   "nbconvert_exporter": "python",
   "pygments_lexer": "ipython3",
   "version": "3.9.1"
  }
 },
 "nbformat": 4,
 "nbformat_minor": 4
}
